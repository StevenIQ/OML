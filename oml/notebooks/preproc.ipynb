{
 "cells": [
  {
   "cell_type": "code",
   "execution_count": 1,
   "metadata": {
    "id": "UkZ5KdeF5ZIF",
    "pycharm": {
     "name": "#%%\n"
    }
   },
   "outputs": [],
   "source": [
    "data_y = r\"../data/01_raw/NHANESI_y.csv\"\n",
    "data_x = r\"../data/01_raw/NHANESI_X.csv\""
   ]
  },
  {
   "cell_type": "code",
   "execution_count": 2,
   "metadata": {
    "id": "Mt1wfaBC5-1g",
    "pycharm": {
     "name": "#%%\n"
    }
   },
   "outputs": [],
   "source": [
    "import csv\n",
    "import requests\n",
    "import pandas as pd\n",
    "import datetime"
   ]
  },
  {
   "cell_type": "code",
   "execution_count": 3,
   "metadata": {
    "id": "63yhKv7y5dgK",
    "pycharm": {
     "name": "#%%\n"
    }
   },
   "outputs": [],
   "source": [
    "data_x = pd.read_csv(data_x)\n"
   ]
  },
  {
   "cell_type": "code",
   "execution_count": 4,
   "metadata": {
    "colab": {
     "base_uri": "https://localhost:8080/"
    },
    "id": "kSbg32JF5sae",
    "outputId": "9b7f01a6-6f55-4296-c0de-d1c58f6cf558",
    "pycharm": {
     "name": "#%%\n"
    }
   },
   "outputs": [
    {
     "data": {
      "text/plain": "Index(['Unnamed: 0', 'sex_isFemale', 'age', 'physical_activity',\n       'serum_albumin', 'alkaline_phosphatase',\n       'alkaline_phosphatase_isUnacceptable',\n       'alkaline_phosphatase_isTestnotdone', 'SGOT', 'SGOT_isUnacceptable',\n       'SGOT_isTestnotdone', 'BUN', 'BUN_isUnacceptable', 'BUN_isTestnotdone',\n       'calcium', 'calcium_isUnacceptable', 'calcium_isTestnotdone',\n       'creatinine', 'creatinine_isUnacceptable', 'creatinine_isTestnotdone',\n       'potassium', 'potassium_isUnacceptable', 'sodium',\n       'sodium_isUnacceptable', 'total_bilirubin',\n       'total_bilirubin_isUnacceptable', 'total_bilirubin_isTestnotdone',\n       'serum_protein', 'red_blood_cells', 'red_blood_cells_isUnacceptable',\n       'red_blood_cells_isBlankbutapplicable', 'white_blood_cells',\n       'white_blood_cells_isUnacceptable',\n       'white_blood_cells_isBlankbutapplicable', 'hemoglobin',\n       'hemoglobin_isMissing', 'hematocrit', 'hematocrit_isUnacceptable',\n       'hematocrit_isMissing', 'platelets_isNormal', 'platelets_isIncreased',\n       'platelets_isDecreased', 'platelets_isNoestimate',\n       'segmented_neutrophils', 'lymphocytes', 'monocytes', 'eosinophils',\n       'basophils', 'band_neutrophils', 'cholesterol', 'cholesterol_isMissing',\n       'urine_albumin_isNegative', 'urine_albumin_is>=30',\n       'urine_albumin_is>=100', 'urine_albumin_is>=300',\n       'urine_albumin_is>=1000', 'urine_albumin_isTrace',\n       'urine_albumin_isBlankbutapplicable', 'urine_glucose_isNegative',\n       'urine_glucose_isLight', 'urine_glucose_isMedium',\n       'urine_glucose_isDark', 'urine_glucose_isVerydark',\n       'urine_glucose_isTrace', 'urine_glucose_isBlankbutapplicable',\n       'urine_pH', 'urine_pH_isBlankbutapplicable',\n       'urine_hematest_isNegative', 'urine_hematest_isSmall',\n       'urine_hematest_isModerate', 'urine_hematest_isLarge',\n       'urine_hematest_isBlankbutapplicable', 'sedimentation_rate',\n       'sedimentation_rate_isBlankbutapplicable', 'uric_acid',\n       'uric_acid_isUnacceptable', 'uric_acid_isTestnotdone',\n       'systolic_blood_pressure', 'pulse_pressure', 'bmi'],\n      dtype='object')"
     },
     "execution_count": 4,
     "metadata": {},
     "output_type": "execute_result"
    }
   ],
   "source": [
    "data_x.columns"
   ]
  },
  {
   "cell_type": "code",
   "execution_count": 5,
   "metadata": {
    "colab": {
     "base_uri": "https://localhost:8080/"
    },
    "id": "WdOf0KdSBaUJ",
    "outputId": "70712538-f397-4bf1-c590-bf382e2337a3",
    "pycharm": {
     "name": "#%%\n"
    }
   },
   "outputs": [
    {
     "data": {
      "text/plain": "Index(['Unnamed: 0', 'y'], dtype='object')"
     },
     "execution_count": 5,
     "metadata": {},
     "output_type": "execute_result"
    }
   ],
   "source": [
    "data_y = pd.read_csv(data_y)\n",
    "data_y.columns"
   ]
  },
  {
   "cell_type": "code",
   "execution_count": 6,
   "metadata": {
    "id": "5tnepVaTKLSP",
    "pycharm": {
     "name": "#%%\n"
    }
   },
   "outputs": [],
   "source": [
    "df = pd.merge(data_x, data_y, on=['Unnamed: 0']).rename(columns={'Unnamed: 0': \"ID\"})"
   ]
  },
  {
   "cell_type": "code",
   "execution_count": 7,
   "metadata": {
    "id": "Z5as4OaLw2Rl",
    "pycharm": {
     "name": "#%%\n"
    }
   },
   "outputs": [],
   "source": [
    "df['date'] = pd.date_range(start='1/1/2019', periods=len(df), freq='H')"
   ]
  },
  {
   "cell_type": "code",
   "execution_count": 8,
   "metadata": {
    "id": "vEdb654gzHsa",
    "pycharm": {
     "name": "#%%\n"
    }
   },
   "outputs": [],
   "source": [
    "newdf = pd.to_datetime(df['date']).dt.normalize()"
   ]
  },
  {
   "cell_type": "code",
   "execution_count": 9,
   "metadata": {
    "id": "yd_0lxdo2y3y",
    "pycharm": {
     "name": "#%%\n"
    }
   },
   "outputs": [],
   "source": [
    "df['date'] = newdf"
   ]
  },
  {
   "cell_type": "code",
   "execution_count": 10,
   "metadata": {
    "colab": {
     "base_uri": "https://localhost:8080/"
    },
    "id": "EtaFJuea4EMz",
    "outputId": "7c5bcd79-f044-4049-83f2-26f523772772",
    "pycharm": {
     "name": "#%%\n"
    }
   },
   "outputs": [
    {
     "data": {
      "text/plain": "0       2019-01-01\n1       2019-01-01\n2       2019-01-01\n3       2019-01-01\n4       2019-01-01\n           ...    \n14259   2020-08-17\n14260   2020-08-17\n14261   2020-08-17\n14262   2020-08-17\n14263   2020-08-17\nName: date, Length: 14264, dtype: datetime64[ns]"
     },
     "execution_count": 10,
     "metadata": {},
     "output_type": "execute_result"
    }
   ],
   "source": [
    "df.date"
   ]
  },
  {
   "cell_type": "code",
   "execution_count": 11,
   "metadata": {
    "id": "huTTml2J4R1q",
    "pycharm": {
     "name": "#%%\n"
    }
   },
   "outputs": [
    {
     "data": {
      "text/plain": "Index(['ID', 'sex_isFemale', 'age', 'physical_activity', 'serum_albumin',\n       'alkaline_phosphatase', 'alkaline_phosphatase_isUnacceptable',\n       'alkaline_phosphatase_isTestnotdone', 'SGOT', 'SGOT_isUnacceptable',\n       'SGOT_isTestnotdone', 'BUN', 'BUN_isUnacceptable', 'BUN_isTestnotdone',\n       'calcium', 'calcium_isUnacceptable', 'calcium_isTestnotdone',\n       'creatinine', 'creatinine_isUnacceptable', 'creatinine_isTestnotdone',\n       'potassium', 'potassium_isUnacceptable', 'sodium',\n       'sodium_isUnacceptable', 'total_bilirubin',\n       'total_bilirubin_isUnacceptable', 'total_bilirubin_isTestnotdone',\n       'serum_protein', 'red_blood_cells', 'red_blood_cells_isUnacceptable',\n       'red_blood_cells_isBlankbutapplicable', 'white_blood_cells',\n       'white_blood_cells_isUnacceptable',\n       'white_blood_cells_isBlankbutapplicable', 'hemoglobin',\n       'hemoglobin_isMissing', 'hematocrit', 'hematocrit_isUnacceptable',\n       'hematocrit_isMissing', 'platelets_isNormal', 'platelets_isIncreased',\n       'platelets_isDecreased', 'platelets_isNoestimate',\n       'segmented_neutrophils', 'lymphocytes', 'monocytes', 'eosinophils',\n       'basophils', 'band_neutrophils', 'cholesterol', 'cholesterol_isMissing',\n       'urine_albumin_isNegative', 'urine_albumin_is>=30',\n       'urine_albumin_is>=100', 'urine_albumin_is>=300',\n       'urine_albumin_is>=1000', 'urine_albumin_isTrace',\n       'urine_albumin_isBlankbutapplicable', 'urine_glucose_isNegative',\n       'urine_glucose_isLight', 'urine_glucose_isMedium',\n       'urine_glucose_isDark', 'urine_glucose_isVerydark',\n       'urine_glucose_isTrace', 'urine_glucose_isBlankbutapplicable',\n       'urine_pH', 'urine_pH_isBlankbutapplicable',\n       'urine_hematest_isNegative', 'urine_hematest_isSmall',\n       'urine_hematest_isModerate', 'urine_hematest_isLarge',\n       'urine_hematest_isBlankbutapplicable', 'sedimentation_rate',\n       'sedimentation_rate_isBlankbutapplicable', 'uric_acid',\n       'uric_acid_isUnacceptable', 'uric_acid_isTestnotdone',\n       'systolic_blood_pressure', 'pulse_pressure', 'bmi', 'y', 'date'],\n      dtype='object')"
     },
     "execution_count": 11,
     "metadata": {},
     "output_type": "execute_result"
    }
   ],
   "source": [
    "df.columns"
   ]
  },
  {
   "cell_type": "code",
   "execution_count": 12,
   "metadata": {
    "pycharm": {
     "name": "#%%\n"
    }
   },
   "outputs": [
    {
     "data": {
      "text/plain": "       ID  sex_isFemale  age  physical_activity  serum_albumin  \\\n0   20751         False   51                  3            NaN   \n1   20753         False   41                  2            NaN   \n2   20754          True   31                  2            NaN   \n3   20755         False   48                  2            NaN   \n4   20756          True   29                  3            NaN   \n..    ...           ...  ...                ...            ...   \n95    107          True   31                  3            5.2   \n96    109          True   41                  3            4.0   \n97    111         False   42                  2            4.7   \n98    112          True   44                  3            NaN   \n99    116          True   30                  3            4.2   \n\n    alkaline_phosphatase  alkaline_phosphatase_isUnacceptable  \\\n0                   85.0                                False   \n1                   68.0                                False   \n2                   61.0                                False   \n3                   58.0                                False   \n4                   37.0                                False   \n..                   ...                                  ...   \n95                   NaN                                False   \n96                   NaN                                False   \n97                   NaN                                False   \n98                   NaN                                False   \n99                   NaN                                False   \n\n    alkaline_phosphatase_isTestnotdone  SGOT  SGOT_isUnacceptable  ...  \\\n0                                False   NaN                 True  ...   \n1                                False  2.27                False  ...   \n2                                False  1.86                False  ...   \n3                                False   NaN                 True  ...   \n4                                False  1.69                False  ...   \n..                                 ...   ...                  ...  ...   \n95                               False   NaN                False  ...   \n96                               False   NaN                False  ...   \n97                               False   NaN                False  ...   \n98                               False   NaN                False  ...   \n99                               False   NaN                False  ...   \n\n    sedimentation_rate  sedimentation_rate_isBlankbutapplicable  uric_acid  \\\n0                  NaN                                    False        6.2   \n1                  NaN                                    False        7.7   \n2                  NaN                                    False        4.9   \n3                  NaN                                    False        8.4   \n4                  NaN                                    False        4.3   \n..                 ...                                      ...        ...   \n95                11.0                                    False        NaN   \n96                 5.0                                    False        NaN   \n97                 8.0                                    False        NaN   \n98                 7.0                                    False        NaN   \n99                14.0                                    False        NaN   \n\n    uric_acid_isUnacceptable  uric_acid_isTestnotdone  \\\n0                      False                    False   \n1                      False                    False   \n2                      False                    False   \n3                      False                    False   \n4                      False                    False   \n..                       ...                      ...   \n95                     False                    False   \n96                     False                    False   \n97                     False                    False   \n98                     False                    False   \n99                     False                    False   \n\n    systolic_blood_pressure  pulse_pressure        bmi          y       date  \n0                     110.0            40.0  25.406803 -16.916667 2019-01-01  \n1                     136.0            54.0  24.588331 -17.166667 2019-01-01  \n2                     110.0            24.0  23.756502 -17.666667 2019-01-01  \n3                     126.0            36.0  28.610011 -17.250000 2019-01-01  \n4                      98.0            36.0  19.216489 -17.083333 2019-01-01  \n..                      ...             ...        ...        ...        ...  \n95                    156.0            78.0  26.760000 -21.083333 2019-01-04  \n96                    128.0            46.0  33.868131 -21.083333 2019-01-05  \n97                    142.0            54.0  26.693030 -21.083333 2019-01-05  \n98                    122.0            44.0  22.510081 -21.083333 2019-01-05  \n99                    124.0            52.0  25.893593 -21.166667 2019-01-05  \n\n[100 rows x 82 columns]",
      "text/html": "<div>\n<style scoped>\n    .dataframe tbody tr th:only-of-type {\n        vertical-align: middle;\n    }\n\n    .dataframe tbody tr th {\n        vertical-align: top;\n    }\n\n    .dataframe thead th {\n        text-align: right;\n    }\n</style>\n<table border=\"1\" class=\"dataframe\">\n  <thead>\n    <tr style=\"text-align: right;\">\n      <th></th>\n      <th>ID</th>\n      <th>sex_isFemale</th>\n      <th>age</th>\n      <th>physical_activity</th>\n      <th>serum_albumin</th>\n      <th>alkaline_phosphatase</th>\n      <th>alkaline_phosphatase_isUnacceptable</th>\n      <th>alkaline_phosphatase_isTestnotdone</th>\n      <th>SGOT</th>\n      <th>SGOT_isUnacceptable</th>\n      <th>...</th>\n      <th>sedimentation_rate</th>\n      <th>sedimentation_rate_isBlankbutapplicable</th>\n      <th>uric_acid</th>\n      <th>uric_acid_isUnacceptable</th>\n      <th>uric_acid_isTestnotdone</th>\n      <th>systolic_blood_pressure</th>\n      <th>pulse_pressure</th>\n      <th>bmi</th>\n      <th>y</th>\n      <th>date</th>\n    </tr>\n  </thead>\n  <tbody>\n    <tr>\n      <th>0</th>\n      <td>20751</td>\n      <td>False</td>\n      <td>51</td>\n      <td>3</td>\n      <td>NaN</td>\n      <td>85.0</td>\n      <td>False</td>\n      <td>False</td>\n      <td>NaN</td>\n      <td>True</td>\n      <td>...</td>\n      <td>NaN</td>\n      <td>False</td>\n      <td>6.2</td>\n      <td>False</td>\n      <td>False</td>\n      <td>110.0</td>\n      <td>40.0</td>\n      <td>25.406803</td>\n      <td>-16.916667</td>\n      <td>2019-01-01</td>\n    </tr>\n    <tr>\n      <th>1</th>\n      <td>20753</td>\n      <td>False</td>\n      <td>41</td>\n      <td>2</td>\n      <td>NaN</td>\n      <td>68.0</td>\n      <td>False</td>\n      <td>False</td>\n      <td>2.27</td>\n      <td>False</td>\n      <td>...</td>\n      <td>NaN</td>\n      <td>False</td>\n      <td>7.7</td>\n      <td>False</td>\n      <td>False</td>\n      <td>136.0</td>\n      <td>54.0</td>\n      <td>24.588331</td>\n      <td>-17.166667</td>\n      <td>2019-01-01</td>\n    </tr>\n    <tr>\n      <th>2</th>\n      <td>20754</td>\n      <td>True</td>\n      <td>31</td>\n      <td>2</td>\n      <td>NaN</td>\n      <td>61.0</td>\n      <td>False</td>\n      <td>False</td>\n      <td>1.86</td>\n      <td>False</td>\n      <td>...</td>\n      <td>NaN</td>\n      <td>False</td>\n      <td>4.9</td>\n      <td>False</td>\n      <td>False</td>\n      <td>110.0</td>\n      <td>24.0</td>\n      <td>23.756502</td>\n      <td>-17.666667</td>\n      <td>2019-01-01</td>\n    </tr>\n    <tr>\n      <th>3</th>\n      <td>20755</td>\n      <td>False</td>\n      <td>48</td>\n      <td>2</td>\n      <td>NaN</td>\n      <td>58.0</td>\n      <td>False</td>\n      <td>False</td>\n      <td>NaN</td>\n      <td>True</td>\n      <td>...</td>\n      <td>NaN</td>\n      <td>False</td>\n      <td>8.4</td>\n      <td>False</td>\n      <td>False</td>\n      <td>126.0</td>\n      <td>36.0</td>\n      <td>28.610011</td>\n      <td>-17.250000</td>\n      <td>2019-01-01</td>\n    </tr>\n    <tr>\n      <th>4</th>\n      <td>20756</td>\n      <td>True</td>\n      <td>29</td>\n      <td>3</td>\n      <td>NaN</td>\n      <td>37.0</td>\n      <td>False</td>\n      <td>False</td>\n      <td>1.69</td>\n      <td>False</td>\n      <td>...</td>\n      <td>NaN</td>\n      <td>False</td>\n      <td>4.3</td>\n      <td>False</td>\n      <td>False</td>\n      <td>98.0</td>\n      <td>36.0</td>\n      <td>19.216489</td>\n      <td>-17.083333</td>\n      <td>2019-01-01</td>\n    </tr>\n    <tr>\n      <th>...</th>\n      <td>...</td>\n      <td>...</td>\n      <td>...</td>\n      <td>...</td>\n      <td>...</td>\n      <td>...</td>\n      <td>...</td>\n      <td>...</td>\n      <td>...</td>\n      <td>...</td>\n      <td>...</td>\n      <td>...</td>\n      <td>...</td>\n      <td>...</td>\n      <td>...</td>\n      <td>...</td>\n      <td>...</td>\n      <td>...</td>\n      <td>...</td>\n      <td>...</td>\n      <td>...</td>\n    </tr>\n    <tr>\n      <th>95</th>\n      <td>107</td>\n      <td>True</td>\n      <td>31</td>\n      <td>3</td>\n      <td>5.2</td>\n      <td>NaN</td>\n      <td>False</td>\n      <td>False</td>\n      <td>NaN</td>\n      <td>False</td>\n      <td>...</td>\n      <td>11.0</td>\n      <td>False</td>\n      <td>NaN</td>\n      <td>False</td>\n      <td>False</td>\n      <td>156.0</td>\n      <td>78.0</td>\n      <td>26.760000</td>\n      <td>-21.083333</td>\n      <td>2019-01-04</td>\n    </tr>\n    <tr>\n      <th>96</th>\n      <td>109</td>\n      <td>True</td>\n      <td>41</td>\n      <td>3</td>\n      <td>4.0</td>\n      <td>NaN</td>\n      <td>False</td>\n      <td>False</td>\n      <td>NaN</td>\n      <td>False</td>\n      <td>...</td>\n      <td>5.0</td>\n      <td>False</td>\n      <td>NaN</td>\n      <td>False</td>\n      <td>False</td>\n      <td>128.0</td>\n      <td>46.0</td>\n      <td>33.868131</td>\n      <td>-21.083333</td>\n      <td>2019-01-05</td>\n    </tr>\n    <tr>\n      <th>97</th>\n      <td>111</td>\n      <td>False</td>\n      <td>42</td>\n      <td>2</td>\n      <td>4.7</td>\n      <td>NaN</td>\n      <td>False</td>\n      <td>False</td>\n      <td>NaN</td>\n      <td>False</td>\n      <td>...</td>\n      <td>8.0</td>\n      <td>False</td>\n      <td>NaN</td>\n      <td>False</td>\n      <td>False</td>\n      <td>142.0</td>\n      <td>54.0</td>\n      <td>26.693030</td>\n      <td>-21.083333</td>\n      <td>2019-01-05</td>\n    </tr>\n    <tr>\n      <th>98</th>\n      <td>112</td>\n      <td>True</td>\n      <td>44</td>\n      <td>3</td>\n      <td>NaN</td>\n      <td>NaN</td>\n      <td>False</td>\n      <td>False</td>\n      <td>NaN</td>\n      <td>False</td>\n      <td>...</td>\n      <td>7.0</td>\n      <td>False</td>\n      <td>NaN</td>\n      <td>False</td>\n      <td>False</td>\n      <td>122.0</td>\n      <td>44.0</td>\n      <td>22.510081</td>\n      <td>-21.083333</td>\n      <td>2019-01-05</td>\n    </tr>\n    <tr>\n      <th>99</th>\n      <td>116</td>\n      <td>True</td>\n      <td>30</td>\n      <td>3</td>\n      <td>4.2</td>\n      <td>NaN</td>\n      <td>False</td>\n      <td>False</td>\n      <td>NaN</td>\n      <td>False</td>\n      <td>...</td>\n      <td>14.0</td>\n      <td>False</td>\n      <td>NaN</td>\n      <td>False</td>\n      <td>False</td>\n      <td>124.0</td>\n      <td>52.0</td>\n      <td>25.893593</td>\n      <td>-21.166667</td>\n      <td>2019-01-05</td>\n    </tr>\n  </tbody>\n</table>\n<p>100 rows × 82 columns</p>\n</div>"
     },
     "execution_count": 12,
     "metadata": {},
     "output_type": "execute_result"
    }
   ],
   "source": [
    "df.head(100)"
   ]
  },
  {
   "cell_type": "code",
   "execution_count": 14,
   "outputs": [
    {
     "data": {
      "text/plain": "          ID  sex_isFemale  age  physical_activity  serum_albumin  \\\n13604  24058          True   41                  2            NaN   \n11025  20337         False   56                  3            4.4   \n10370  19147         False   57                  8            4.6   \n13035  23320          True   30                  3            NaN   \n5344    9848         False   44                  8            NaN   \n\n       alkaline_phosphatase  alkaline_phosphatase_isUnacceptable  \\\n13604                  43.0                                False   \n11025                  90.0                                False   \n10370                  48.0                                False   \n13035                  52.0                                False   \n5344                    NaN                                False   \n\n       alkaline_phosphatase_isTestnotdone  SGOT  SGOT_isUnacceptable  ...  \\\n13604                               False  1.65                False  ...   \n11025                               False  5.50                False  ...   \n10370                               False  2.60                False  ...   \n13035                               False  2.00                False  ...   \n5344                                 True   NaN                False  ...   \n\n       urine_hematest_isBlankbutapplicable  sedimentation_rate  \\\n13604                                False                 NaN   \n11025                                False                17.0   \n10370                                False                 3.0   \n13035                                False                 NaN   \n5344                                 False                 NaN   \n\n       sedimentation_rate_isBlankbutapplicable  uric_acid  \\\n13604                                    False        5.0   \n11025                                    False        6.9   \n10370                                    False        6.2   \n13035                                    False        7.5   \n5344                                      True        NaN   \n\n       uric_acid_isUnacceptable  uric_acid_isTestnotdone  \\\n13604                     False                    False   \n11025                     False                    False   \n10370                     False                    False   \n13035                     False                    False   \n5344                      False                     True   \n\n       systolic_blood_pressure  pulse_pressure        bmi       date  \n13604                    138.0            54.0  26.290071 2020-07-20  \n11025                    196.0           106.0  21.728106 2020-04-04  \n10370                    118.0            44.0  22.920104 2020-03-08  \n13035                    142.0            48.0  44.413467 2020-06-27  \n5344                     120.0            40.0  23.675915 2019-08-11  \n\n[5 rows x 81 columns]",
      "text/html": "<div>\n<style scoped>\n    .dataframe tbody tr th:only-of-type {\n        vertical-align: middle;\n    }\n\n    .dataframe tbody tr th {\n        vertical-align: top;\n    }\n\n    .dataframe thead th {\n        text-align: right;\n    }\n</style>\n<table border=\"1\" class=\"dataframe\">\n  <thead>\n    <tr style=\"text-align: right;\">\n      <th></th>\n      <th>ID</th>\n      <th>sex_isFemale</th>\n      <th>age</th>\n      <th>physical_activity</th>\n      <th>serum_albumin</th>\n      <th>alkaline_phosphatase</th>\n      <th>alkaline_phosphatase_isUnacceptable</th>\n      <th>alkaline_phosphatase_isTestnotdone</th>\n      <th>SGOT</th>\n      <th>SGOT_isUnacceptable</th>\n      <th>...</th>\n      <th>urine_hematest_isBlankbutapplicable</th>\n      <th>sedimentation_rate</th>\n      <th>sedimentation_rate_isBlankbutapplicable</th>\n      <th>uric_acid</th>\n      <th>uric_acid_isUnacceptable</th>\n      <th>uric_acid_isTestnotdone</th>\n      <th>systolic_blood_pressure</th>\n      <th>pulse_pressure</th>\n      <th>bmi</th>\n      <th>date</th>\n    </tr>\n  </thead>\n  <tbody>\n    <tr>\n      <th>13604</th>\n      <td>24058</td>\n      <td>True</td>\n      <td>41</td>\n      <td>2</td>\n      <td>NaN</td>\n      <td>43.0</td>\n      <td>False</td>\n      <td>False</td>\n      <td>1.65</td>\n      <td>False</td>\n      <td>...</td>\n      <td>False</td>\n      <td>NaN</td>\n      <td>False</td>\n      <td>5.0</td>\n      <td>False</td>\n      <td>False</td>\n      <td>138.0</td>\n      <td>54.0</td>\n      <td>26.290071</td>\n      <td>2020-07-20</td>\n    </tr>\n    <tr>\n      <th>11025</th>\n      <td>20337</td>\n      <td>False</td>\n      <td>56</td>\n      <td>3</td>\n      <td>4.4</td>\n      <td>90.0</td>\n      <td>False</td>\n      <td>False</td>\n      <td>5.50</td>\n      <td>False</td>\n      <td>...</td>\n      <td>False</td>\n      <td>17.0</td>\n      <td>False</td>\n      <td>6.9</td>\n      <td>False</td>\n      <td>False</td>\n      <td>196.0</td>\n      <td>106.0</td>\n      <td>21.728106</td>\n      <td>2020-04-04</td>\n    </tr>\n    <tr>\n      <th>10370</th>\n      <td>19147</td>\n      <td>False</td>\n      <td>57</td>\n      <td>8</td>\n      <td>4.6</td>\n      <td>48.0</td>\n      <td>False</td>\n      <td>False</td>\n      <td>2.60</td>\n      <td>False</td>\n      <td>...</td>\n      <td>False</td>\n      <td>3.0</td>\n      <td>False</td>\n      <td>6.2</td>\n      <td>False</td>\n      <td>False</td>\n      <td>118.0</td>\n      <td>44.0</td>\n      <td>22.920104</td>\n      <td>2020-03-08</td>\n    </tr>\n    <tr>\n      <th>13035</th>\n      <td>23320</td>\n      <td>True</td>\n      <td>30</td>\n      <td>3</td>\n      <td>NaN</td>\n      <td>52.0</td>\n      <td>False</td>\n      <td>False</td>\n      <td>2.00</td>\n      <td>False</td>\n      <td>...</td>\n      <td>False</td>\n      <td>NaN</td>\n      <td>False</td>\n      <td>7.5</td>\n      <td>False</td>\n      <td>False</td>\n      <td>142.0</td>\n      <td>48.0</td>\n      <td>44.413467</td>\n      <td>2020-06-27</td>\n    </tr>\n    <tr>\n      <th>5344</th>\n      <td>9848</td>\n      <td>False</td>\n      <td>44</td>\n      <td>8</td>\n      <td>NaN</td>\n      <td>NaN</td>\n      <td>False</td>\n      <td>True</td>\n      <td>NaN</td>\n      <td>False</td>\n      <td>...</td>\n      <td>False</td>\n      <td>NaN</td>\n      <td>True</td>\n      <td>NaN</td>\n      <td>False</td>\n      <td>True</td>\n      <td>120.0</td>\n      <td>40.0</td>\n      <td>23.675915</td>\n      <td>2019-08-11</td>\n    </tr>\n  </tbody>\n</table>\n<p>5 rows × 81 columns</p>\n</div>"
     },
     "execution_count": 14,
     "metadata": {},
     "output_type": "execute_result"
    }
   ],
   "source": [
    "from sklearn.model_selection import train_test_split\n",
    "\n",
    "X = df.drop(\"y\", axis=1).copy()\n",
    "y = df[['ID', 'y']]\n",
    "\n",
    "X_train, X_test, y_train, y_test = train_test_split(\n",
    "    X, y, test_size=0.25, random_state=40\n",
    ")\n",
    "\n",
    "X_train.head()"
   ],
   "metadata": {
    "collapsed": false,
    "pycharm": {
     "name": "#%%\n"
    }
   }
  },
  {
   "cell_type": "code",
   "execution_count": 16,
   "outputs": [
    {
     "data": {
      "text/plain": "         ID  sex_isFemale  age  physical_activity  serum_albumin  \\\n1269   2355         False   69                  3            NaN   \n6025  11160         False   39                  2            4.2   \n9087  16827          True   39                  3            4.4   \n146     210          True   41                  3            NaN   \n5220   9590         False   66                  3            4.5   \n\n      alkaline_phosphatase  alkaline_phosphatase_isUnacceptable  \\\n1269                   NaN                                False   \n6025                   NaN                                False   \n9087                   NaN                                False   \n146                    NaN                                False   \n5220                  64.0                                False   \n\n      alkaline_phosphatase_isTestnotdone  SGOT  SGOT_isUnacceptable  ...  \\\n1269                               False   NaN                False  ...   \n6025                               False   NaN                False  ...   \n9087                               False   NaN                False  ...   \n146                                False   NaN                False  ...   \n5220                               False   2.4                False  ...   \n\n      urine_hematest_isBlankbutapplicable  sedimentation_rate  \\\n1269                                False                10.0   \n6025                                False                10.0   \n9087                                False                15.0   \n146                                  True                 2.0   \n5220                                 True                19.0   \n\n      sedimentation_rate_isBlankbutapplicable  uric_acid  \\\n1269                                    False        NaN   \n6025                                    False        NaN   \n9087                                    False        NaN   \n146                                     False        NaN   \n5220                                    False        6.1   \n\n      uric_acid_isUnacceptable  uric_acid_isTestnotdone  \\\n1269                     False                    False   \n6025                     False                    False   \n9087                     False                    False   \n146                      False                    False   \n5220                     False                    False   \n\n      systolic_blood_pressure  pulse_pressure        bmi       date  \n1269                    158.0            68.0  21.584709 2019-02-22  \n6025                     90.0            20.0  27.282929 2019-09-09  \n9087                    124.0            54.0  20.606547 2020-01-14  \n146                     116.0            44.0  19.366293 2019-01-07  \n5220                    130.0            48.0  28.672863 2019-08-06  \n\n[5 rows x 81 columns]",
      "text/html": "<div>\n<style scoped>\n    .dataframe tbody tr th:only-of-type {\n        vertical-align: middle;\n    }\n\n    .dataframe tbody tr th {\n        vertical-align: top;\n    }\n\n    .dataframe thead th {\n        text-align: right;\n    }\n</style>\n<table border=\"1\" class=\"dataframe\">\n  <thead>\n    <tr style=\"text-align: right;\">\n      <th></th>\n      <th>ID</th>\n      <th>sex_isFemale</th>\n      <th>age</th>\n      <th>physical_activity</th>\n      <th>serum_albumin</th>\n      <th>alkaline_phosphatase</th>\n      <th>alkaline_phosphatase_isUnacceptable</th>\n      <th>alkaline_phosphatase_isTestnotdone</th>\n      <th>SGOT</th>\n      <th>SGOT_isUnacceptable</th>\n      <th>...</th>\n      <th>urine_hematest_isBlankbutapplicable</th>\n      <th>sedimentation_rate</th>\n      <th>sedimentation_rate_isBlankbutapplicable</th>\n      <th>uric_acid</th>\n      <th>uric_acid_isUnacceptable</th>\n      <th>uric_acid_isTestnotdone</th>\n      <th>systolic_blood_pressure</th>\n      <th>pulse_pressure</th>\n      <th>bmi</th>\n      <th>date</th>\n    </tr>\n  </thead>\n  <tbody>\n    <tr>\n      <th>1269</th>\n      <td>2355</td>\n      <td>False</td>\n      <td>69</td>\n      <td>3</td>\n      <td>NaN</td>\n      <td>NaN</td>\n      <td>False</td>\n      <td>False</td>\n      <td>NaN</td>\n      <td>False</td>\n      <td>...</td>\n      <td>False</td>\n      <td>10.0</td>\n      <td>False</td>\n      <td>NaN</td>\n      <td>False</td>\n      <td>False</td>\n      <td>158.0</td>\n      <td>68.0</td>\n      <td>21.584709</td>\n      <td>2019-02-22</td>\n    </tr>\n    <tr>\n      <th>6025</th>\n      <td>11160</td>\n      <td>False</td>\n      <td>39</td>\n      <td>2</td>\n      <td>4.2</td>\n      <td>NaN</td>\n      <td>False</td>\n      <td>False</td>\n      <td>NaN</td>\n      <td>False</td>\n      <td>...</td>\n      <td>False</td>\n      <td>10.0</td>\n      <td>False</td>\n      <td>NaN</td>\n      <td>False</td>\n      <td>False</td>\n      <td>90.0</td>\n      <td>20.0</td>\n      <td>27.282929</td>\n      <td>2019-09-09</td>\n    </tr>\n    <tr>\n      <th>9087</th>\n      <td>16827</td>\n      <td>True</td>\n      <td>39</td>\n      <td>3</td>\n      <td>4.4</td>\n      <td>NaN</td>\n      <td>False</td>\n      <td>False</td>\n      <td>NaN</td>\n      <td>False</td>\n      <td>...</td>\n      <td>False</td>\n      <td>15.0</td>\n      <td>False</td>\n      <td>NaN</td>\n      <td>False</td>\n      <td>False</td>\n      <td>124.0</td>\n      <td>54.0</td>\n      <td>20.606547</td>\n      <td>2020-01-14</td>\n    </tr>\n    <tr>\n      <th>146</th>\n      <td>210</td>\n      <td>True</td>\n      <td>41</td>\n      <td>3</td>\n      <td>NaN</td>\n      <td>NaN</td>\n      <td>False</td>\n      <td>False</td>\n      <td>NaN</td>\n      <td>False</td>\n      <td>...</td>\n      <td>True</td>\n      <td>2.0</td>\n      <td>False</td>\n      <td>NaN</td>\n      <td>False</td>\n      <td>False</td>\n      <td>116.0</td>\n      <td>44.0</td>\n      <td>19.366293</td>\n      <td>2019-01-07</td>\n    </tr>\n    <tr>\n      <th>5220</th>\n      <td>9590</td>\n      <td>False</td>\n      <td>66</td>\n      <td>3</td>\n      <td>4.5</td>\n      <td>64.0</td>\n      <td>False</td>\n      <td>False</td>\n      <td>2.4</td>\n      <td>False</td>\n      <td>...</td>\n      <td>True</td>\n      <td>19.0</td>\n      <td>False</td>\n      <td>6.1</td>\n      <td>False</td>\n      <td>False</td>\n      <td>130.0</td>\n      <td>48.0</td>\n      <td>28.672863</td>\n      <td>2019-08-06</td>\n    </tr>\n  </tbody>\n</table>\n<p>5 rows × 81 columns</p>\n</div>"
     },
     "execution_count": 16,
     "metadata": {},
     "output_type": "execute_result"
    }
   ],
   "source": [
    "X_test.head()"
   ],
   "metadata": {
    "collapsed": false,
    "pycharm": {
     "name": "#%%\n"
    }
   }
  },
  {
   "cell_type": "code",
   "execution_count": 18,
   "outputs": [],
   "source": [
    "import os\n",
    "X.to_csv(os.path.expanduser(\"../data/05_model_input/X.csv\"), index=False)\n",
    "y.to_csv(os.path.expanduser(\"../data/05_model_input/y.csv\"), index=False)\n",
    "\n",
    "X_train.to_csv(os.path.expanduser(\"../data/05_model_input/X_train.csv\"), index=False)\n",
    "X_test.to_csv(os.path.expanduser(\"../data/05_model_input/X_test.csv\"), index=False)\n",
    "y_train.to_csv(os.path.expanduser(\"../data/05_model_input/y_train.csv\"), index=False)\n",
    "y_test.to_csv(os.path.expanduser(\"../data/05_model_input/y_test.csv\"), index=False)"
   ],
   "metadata": {
    "collapsed": false,
    "pycharm": {
     "name": "#%%\n"
    }
   }
  },
  {
   "cell_type": "code",
   "execution_count": null,
   "outputs": [],
   "source": [],
   "metadata": {
    "collapsed": false,
    "pycharm": {
     "name": "#%%\n"
    }
   }
  }
 ],
 "metadata": {
  "colab": {
   "collapsed_sections": [],
   "name": "Orchestration",
   "provenance": []
  },
  "kernelspec": {
   "display_name": "Python 3.9.12 ('base')",
   "language": "python",
   "name": "python3"
  },
  "language_info": {
   "codemirror_mode": {
    "name": "ipython",
    "version": 3
   },
   "file_extension": ".py",
   "mimetype": "text/x-python",
   "name": "python",
   "nbconvert_exporter": "python",
   "pygments_lexer": "ipython3",
   "version": "3.9.12"
  },
  "vscode": {
   "interpreter": {
    "hash": "ad2bdc8ecc057115af97d19610ffacc2b4e99fae6737bb82f5d7fb13d2f2c186"
   }
  }
 },
 "nbformat": 4,
 "nbformat_minor": 0
}